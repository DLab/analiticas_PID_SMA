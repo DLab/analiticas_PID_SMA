{
 "cells": [
  {
   "cell_type": "markdown",
   "id": "4bc0f587",
   "metadata": {},
   "source": [
    "# Analíticas Alertas de Episodios y Normativas"
   ]
  },
  {
   "cell_type": "markdown",
   "id": "4cb0bc67",
   "metadata": {},
   "source": [
    "---"
   ]
  },
  {
   "cell_type": "markdown",
   "id": "de6d6f0b",
   "metadata": {},
   "source": [
    "# Ejemplo específico para Dióxido de Azufre"
   ]
  },
  {
   "cell_type": "markdown",
   "id": "358153d4",
   "metadata": {},
   "source": [
    "### **DECRETO 104: NORMA PRIMARIA DE CALIDAD DE AIRE PARA DIÓXIDO DE AZUFRE (SO2)**  \n",
    "\n",
    "**Artículo completo:** https://www.bcn.cl/leychile/navegar?idNorma=1131641&idParte=\n",
    "  \n",
    "**TÍTULO II: Normas de Calidad Primaria para Dióxido de Azufre**  \n",
    "\n",
    "**Artículo 3.** La norma primaria de calidad de aire para dióxido de azufre como concentración anual será de 60 µg/m3N, equivalente a 23 ppbv.  \n",
    "\n",
    "**Artículo 4.** La norma primaria de calidad de aire para dióxido de azufre como concentración de 24 horas será de 150 µg/m3N, equivalente a 57 ppbv.  \n",
    "  \n",
    "**Para nuestro ejemplo actual:**  \n",
    "**Artículo 5.** La norma primaria de calidad de aire para dióxido de azufre como concentración de 1 hora será de 350 µg/m3N, equivalente a 134 ppbv.  \n",
    "  \n",
    "Se considerará sobrepasada la norma primaria de calidad de aire para dióxido de azufre como concentración de 1 hora, cuando ocurra al menos, una de las siguientes condiciones:  \n",
    "  \n",
    "**a.** (No tenemos 3 años de datos)  \n",
    "**b.** Si en un año calendario, el valor correspondiente al percentil 98,5 de las concentraciones de 1 hora registradas, fuere mayor o igual al doble del valor de la norma que se establece. A partir del cuarto año calendario de publicada la norma en el Diario Oficial, se considera un percentil 99 para evaluar esta condición.  \n",
    "  \n",
    "**TÍTULO III: Niveles de Emergencia Ambiental de Dióxido de Azufre**  \n",
    "**Artículo 8.** Los siguientes niveles originarán situaciones de emergencia ambiental para dióxido de azufre, expresados como concentración de 1 hora:  \n",
    "  \n",
    "![Descripción de la imagen](nivelesEmergencia_SO2.png)"
   ]
  },
  {
   "cell_type": "markdown",
   "id": "06bb74b4",
   "metadata": {},
   "source": [
    "Según lo anterior, deberían existir dos tipos de alertas en la plataforma:  \n",
    "* **Alertas de Episodio**: Notifica los niveles de **Alerta/Preemergencia/Emergencia** de cierto regulado cuando supera la concentración horaria establecida\n",
    "* **Alertas Normativas**: Notifica (en este caso) la cantidad de horas en el año calendario en curso que cierto regulado lleva superando la norma y advierte cantidad de horas restantes en la \"cuenta de ahorro\" anual (caracter predictivo)"
   ]
  },
  {
   "cell_type": "markdown",
   "id": "bab3c407",
   "metadata": {},
   "source": [
    "* **UfId**: 1631\n",
    "* **Nombre**: TERMINAL MARITIMO GNL - QUINTERO \n",
    "* **Ubicacióń**: Región de Valparaíso\n",
    "* **ProcesoId**: 82\n",
    "* **DispositivoId**: 381"
   ]
  },
  {
   "cell_type": "code",
   "execution_count": 1,
   "id": "5f33dd78",
   "metadata": {},
   "outputs": [],
   "source": [
    "import pandas as pd\n",
    "import numpy as np\n",
    "import datetime\n",
    "import matplotlib.pyplot as plt\n",
    "import seaborn as sns"
   ]
  },
  {
   "cell_type": "markdown",
   "id": "8352cf4c",
   "metadata": {},
   "source": [
    "**Parámetros a utilizar:**"
   ]
  },
  {
   "cell_type": "code",
   "execution_count": 2,
   "id": "1b37fb3a",
   "metadata": {},
   "outputs": [],
   "source": [
    "ufId  = 1631\n",
    "agno  = 2022   # debería ser el año en curso\n",
    "# param = \"SO2\""
   ]
  },
  {
   "cell_type": "code",
   "execution_count": 3,
   "id": "3497a0a7",
   "metadata": {},
   "outputs": [
    {
     "name": "stderr",
     "output_type": "stream",
     "text": [
      "/tmp/ipykernel_23457/1859463002.py:2: DtypeWarning: Columns (1) have mixed types. Specify dtype option on import or set low_memory=False.\n",
      "  df = pd.read_csv('df_CA_' + str(ufId) + '.csv')\n"
     ]
    }
   ],
   "source": [
    "# se importa el dataset\n",
    "df = pd.read_csv('df_CA_' + str(ufId) + '.csv')\n",
    "\n",
    "if 'Unnamed: 0' in df.columns:\n",
    "    df = df.drop(['Unnamed: 0'], axis = 1)"
   ]
  },
  {
   "cell_type": "code",
   "execution_count": 4,
   "id": "e2542852",
   "metadata": {},
   "outputs": [
    {
     "data": {
      "text/html": [
       "<div>\n",
       "<style scoped>\n",
       "    .dataframe tbody tr th:only-of-type {\n",
       "        vertical-align: middle;\n",
       "    }\n",
       "\n",
       "    .dataframe tbody tr th {\n",
       "        vertical-align: top;\n",
       "    }\n",
       "\n",
       "    .dataframe thead th {\n",
       "        text-align: right;\n",
       "    }\n",
       "</style>\n",
       "<table border=\"1\" class=\"dataframe\">\n",
       "  <thead>\n",
       "    <tr style=\"text-align: right;\">\n",
       "      <th></th>\n",
       "      <th>DeviceId</th>\n",
       "      <th>UfId</th>\n",
       "      <th>ProcesoId</th>\n",
       "      <th>Sistema</th>\n",
       "      <th>IdVerificacion</th>\n",
       "      <th>DispositivoId</th>\n",
       "      <th>Nombre</th>\n",
       "      <th>Valor</th>\n",
       "      <th>Unidad</th>\n",
       "      <th>Crudo</th>\n",
       "      <th>Calibraciones</th>\n",
       "      <th>Validados</th>\n",
       "      <th>timestamp</th>\n",
       "      <th>timestampUTC</th>\n",
       "      <th>estampaTiempo</th>\n",
       "    </tr>\n",
       "  </thead>\n",
       "  <tbody>\n",
       "    <tr>\n",
       "      <th>0</th>\n",
       "      <td>ApiRest_U1631P82</td>\n",
       "      <td>1631</td>\n",
       "      <td>82</td>\n",
       "      <td>ApiRest</td>\n",
       "      <td>0e14d5cf-ed19-40ea-b2c8-0087f0a550b2</td>\n",
       "      <td>383</td>\n",
       "      <td>O3</td>\n",
       "      <td>16.01</td>\n",
       "      <td>ppb</td>\n",
       "      <td>NaN</td>\n",
       "      <td>NaN</td>\n",
       "      <td>DV</td>\n",
       "      <td>2021-09-09 16:38:00</td>\n",
       "      <td>2021-09-09 16:44:26</td>\n",
       "      <td>2021-09-09 16:38:00</td>\n",
       "    </tr>\n",
       "    <tr>\n",
       "      <th>1</th>\n",
       "      <td>ApiRest_U1631P82</td>\n",
       "      <td>1631</td>\n",
       "      <td>82</td>\n",
       "      <td>ApiRest</td>\n",
       "      <td>fe0b3e23-453d-4179-acaa-eacb3da7d433</td>\n",
       "      <td>383</td>\n",
       "      <td>O3</td>\n",
       "      <td>16.51</td>\n",
       "      <td>ppb</td>\n",
       "      <td>NaN</td>\n",
       "      <td>NaN</td>\n",
       "      <td>DV</td>\n",
       "      <td>2021-09-09 16:32:00</td>\n",
       "      <td>2021-09-09 16:38:23</td>\n",
       "      <td>2021-09-09 16:32:00</td>\n",
       "    </tr>\n",
       "    <tr>\n",
       "      <th>2</th>\n",
       "      <td>ApiRest_U1631P82</td>\n",
       "      <td>1631</td>\n",
       "      <td>82</td>\n",
       "      <td>ApiRest</td>\n",
       "      <td>fa698414-a6ae-4537-857d-00edea65c619</td>\n",
       "      <td>383</td>\n",
       "      <td>O3</td>\n",
       "      <td>16.36</td>\n",
       "      <td>ppb</td>\n",
       "      <td>NaN</td>\n",
       "      <td>NaN</td>\n",
       "      <td>DV</td>\n",
       "      <td>2021-09-09 16:41:00</td>\n",
       "      <td>2021-09-09 16:47:06</td>\n",
       "      <td>2021-09-09 16:41:00</td>\n",
       "    </tr>\n",
       "    <tr>\n",
       "      <th>3</th>\n",
       "      <td>ApiRest_U1631P82</td>\n",
       "      <td>1631</td>\n",
       "      <td>82</td>\n",
       "      <td>ApiRest</td>\n",
       "      <td>ba93fa54-3eb3-46cc-a8d1-2f4975221573</td>\n",
       "      <td>383</td>\n",
       "      <td>O3</td>\n",
       "      <td>16.73</td>\n",
       "      <td>ppb</td>\n",
       "      <td>NaN</td>\n",
       "      <td>NaN</td>\n",
       "      <td>DV</td>\n",
       "      <td>2021-09-09 16:40:00</td>\n",
       "      <td>2021-09-09 16:46:07</td>\n",
       "      <td>2021-09-09 16:40:00</td>\n",
       "    </tr>\n",
       "    <tr>\n",
       "      <th>4</th>\n",
       "      <td>ApiRest_U1631P82</td>\n",
       "      <td>1631</td>\n",
       "      <td>82</td>\n",
       "      <td>ApiRest</td>\n",
       "      <td>ff0339c5-595e-4086-a9cf-2c8b0619e5e9</td>\n",
       "      <td>383</td>\n",
       "      <td>O3</td>\n",
       "      <td>15.97</td>\n",
       "      <td>ppb</td>\n",
       "      <td>NaN</td>\n",
       "      <td>NaN</td>\n",
       "      <td>DV</td>\n",
       "      <td>2021-09-09 16:39:00</td>\n",
       "      <td>2021-09-09 16:45:15</td>\n",
       "      <td>2021-09-09 16:39:00</td>\n",
       "    </tr>\n",
       "  </tbody>\n",
       "</table>\n",
       "</div>"
      ],
      "text/plain": [
       "           DeviceId  UfId  ProcesoId  Sistema  \\\n",
       "0  ApiRest_U1631P82  1631         82  ApiRest   \n",
       "1  ApiRest_U1631P82  1631         82  ApiRest   \n",
       "2  ApiRest_U1631P82  1631         82  ApiRest   \n",
       "3  ApiRest_U1631P82  1631         82  ApiRest   \n",
       "4  ApiRest_U1631P82  1631         82  ApiRest   \n",
       "\n",
       "                         IdVerificacion  DispositivoId Nombre  Valor Unidad  \\\n",
       "0  0e14d5cf-ed19-40ea-b2c8-0087f0a550b2            383     O3  16.01    ppb   \n",
       "1  fe0b3e23-453d-4179-acaa-eacb3da7d433            383     O3  16.51    ppb   \n",
       "2  fa698414-a6ae-4537-857d-00edea65c619            383     O3  16.36    ppb   \n",
       "3  ba93fa54-3eb3-46cc-a8d1-2f4975221573            383     O3  16.73    ppb   \n",
       "4  ff0339c5-595e-4086-a9cf-2c8b0619e5e9            383     O3  15.97    ppb   \n",
       "\n",
       "   Crudo  Calibraciones Validados            timestamp         timestampUTC  \\\n",
       "0    NaN            NaN        DV  2021-09-09 16:38:00  2021-09-09 16:44:26   \n",
       "1    NaN            NaN        DV  2021-09-09 16:32:00  2021-09-09 16:38:23   \n",
       "2    NaN            NaN        DV  2021-09-09 16:41:00  2021-09-09 16:47:06   \n",
       "3    NaN            NaN        DV  2021-09-09 16:40:00  2021-09-09 16:46:07   \n",
       "4    NaN            NaN        DV  2021-09-09 16:39:00  2021-09-09 16:45:15   \n",
       "\n",
       "         estampaTiempo  \n",
       "0  2021-09-09 16:38:00  \n",
       "1  2021-09-09 16:32:00  \n",
       "2  2021-09-09 16:41:00  \n",
       "3  2021-09-09 16:40:00  \n",
       "4  2021-09-09 16:39:00  "
      ]
     },
     "execution_count": 4,
     "metadata": {},
     "output_type": "execute_result"
    }
   ],
   "source": [
    "df.head()"
   ]
  },
  {
   "cell_type": "markdown",
   "id": "9eca88c7",
   "metadata": {},
   "source": [
    "---"
   ]
  },
  {
   "cell_type": "markdown",
   "id": "0da9a3d5",
   "metadata": {},
   "source": [
    "### Limpieza de Datos"
   ]
  },
  {
   "cell_type": "markdown",
   "id": "533bd92e",
   "metadata": {},
   "source": [
    "En general, para la limpieza inicial:\n",
    "* Se utilizan sólo **datos validados** (columna Validados, DV)\n",
    "* Para el tiempo sólo se utiliza la columna **estampaTiempo** que debería ser igual **timestamp** si el dato está validado"
   ]
  },
  {
   "cell_type": "code",
   "execution_count": 5,
   "id": "0ce8f0d0",
   "metadata": {},
   "outputs": [
    {
     "name": "stdout",
     "output_type": "stream",
     "text": [
      "Datos Validados ['DV']\n"
     ]
    }
   ],
   "source": [
    "print('Datos Validados', df['Validados'].unique())"
   ]
  },
  {
   "cell_type": "code",
   "execution_count": 6,
   "id": "84115bbf",
   "metadata": {},
   "outputs": [
    {
     "name": "stdout",
     "output_type": "stream",
     "text": [
      "Lista de Parámetros\n",
      "['O3' 'DIRV' 'NOX' 'NO' 'NO2' 'PM10' 'SO2' 'CO' 'VELV' 'PM25' 'HCT' 'CH4'\n",
      " 'NMHC']\n"
     ]
    }
   ],
   "source": [
    "print(\"Lista de Parámetros\")\n",
    "print(df['Nombre'].unique())"
   ]
  },
  {
   "cell_type": "code",
   "execution_count": 7,
   "id": "681c6f67",
   "metadata": {},
   "outputs": [],
   "source": [
    "df = df.drop(['Calibraciones', 'Crudo'], axis = 1)    # no necesitamos datos calibrados ni crudos\n",
    "df = df.drop(['timestamp', 'timestampUTC'], axis = 1) # de momento, no necesitamos estas columnas de fechas\n",
    "# nivelesEmergencia_SO2\n",
    "# se ordena por fecha de forma ascendente\n",
    "df = df.rename(columns = {\"estampaTiempo\": \"eTiempo\"})\n",
    "\n",
    "df['estampaTiempo'] = pd.to_datetime(df['eTiempo'], dayfirst = True)\n",
    "df = df.drop(['eTiempo'], axis = 1)\n",
    "df = df.sort_values(by = 'estampaTiempo', ascending = True)\n",
    "\n",
    "df['year'] = pd.DatetimeIndex(df['estampaTiempo']).year # se crea columna year para filtrar el año deseado\n",
    "\n",
    "dfSet2022 = df[df['year'] == agno] # seleccionamos el año 2022"
   ]
  },
  {
   "cell_type": "code",
   "execution_count": 8,
   "id": "371aa625",
   "metadata": {},
   "outputs": [
    {
     "name": "stdout",
     "output_type": "stream",
     "text": [
      "Cantidad de registros año 2022: 2594374\n"
     ]
    }
   ],
   "source": [
    "print(\"Cantidad de registros año 2022:\", dfSet2022.shape[0])"
   ]
  },
  {
   "cell_type": "markdown",
   "id": "63586a0f",
   "metadata": {},
   "source": [
    "**Elección de parámetro**"
   ]
  },
  {
   "cell_type": "code",
   "execution_count": 9,
   "id": "190f2cf9",
   "metadata": {},
   "outputs": [],
   "source": [
    "param = \"SO2\"\n",
    "\n",
    "df_2022_SO2 = dfSet2022[dfSet2022['Nombre'] == param]  # seleccionamos el Dióxido de Azufre\n",
    "df_2022_SO2 = df_2022_SO2.reset_index(drop = True)"
   ]
  },
  {
   "cell_type": "markdown",
   "id": "0e893046",
   "metadata": {},
   "source": [
    "**Verificación de unicidad:**"
   ]
  },
  {
   "cell_type": "code",
   "execution_count": 10,
   "id": "6e2cb1d7",
   "metadata": {},
   "outputs": [
    {
     "name": "stdout",
     "output_type": "stream",
     "text": [
      "Año: [2022]\n",
      "ProcesoId: [82]\n",
      "DispositivoId: [381]\n",
      "Nombre: ['SO2']\n",
      "Unidad: ['ppb']\n"
     ]
    }
   ],
   "source": [
    "print('Año:', df_2022_SO2['year'].unique())\n",
    "print('ProcesoId:', df_2022_SO2['ProcesoId'].unique())\n",
    "print('DispositivoId:', df_2022_SO2['DispositivoId'].unique())\n",
    "print('Nombre:', df_2022_SO2['Nombre'].unique())\n",
    "print('Unidad:', df_2022_SO2['Unidad'].unique())"
   ]
  },
  {
   "cell_type": "markdown",
   "id": "531aaaa7",
   "metadata": {},
   "source": [
    "**Conversión de unidades:**"
   ]
  },
  {
   "cell_type": "code",
   "execution_count": 11,
   "id": "e9013b7e",
   "metadata": {},
   "outputs": [],
   "source": [
    "df_2022_SO2 = df_2022_SO2.rename(columns = {\"Valor\": \"valor\", \"Unidad\": 'unidad'})\n",
    "\n",
    "df_2022_SO2['Valor'] = round(df_2022_SO2['valor'] * 2.62, 3)\n",
    "df_2022_SO2 = df_2022_SO2.assign(Unidad = \"ug/m3\")\n",
    "\n",
    "df_2022_SO2 = df_2022_SO2.drop(['valor', 'unidad'], axis = 1)"
   ]
  },
  {
   "cell_type": "markdown",
   "id": "06f5bd3f",
   "metadata": {},
   "source": [
    "**Borrar columnas innecesarias:**"
   ]
  },
  {
   "cell_type": "code",
   "execution_count": 12,
   "id": "3e4a21a2",
   "metadata": {},
   "outputs": [],
   "source": [
    "df_2022_SO2 = df_2022_SO2.drop(['DeviceId', 'UfId', 'ProcesoId', 'Sistema', 'IdVerificacion',\n",
    "                                'DispositivoId', 'Validados', 'year'], axis = 1)"
   ]
  },
  {
   "cell_type": "markdown",
   "id": "ecee00b8",
   "metadata": {},
   "source": [
    "**Dataset final:**"
   ]
  },
  {
   "cell_type": "code",
   "execution_count": 13,
   "id": "29cc06c8",
   "metadata": {},
   "outputs": [
    {
     "data": {
      "text/html": [
       "<div>\n",
       "<style scoped>\n",
       "    .dataframe tbody tr th:only-of-type {\n",
       "        vertical-align: middle;\n",
       "    }\n",
       "\n",
       "    .dataframe tbody tr th {\n",
       "        vertical-align: top;\n",
       "    }\n",
       "\n",
       "    .dataframe thead th {\n",
       "        text-align: right;\n",
       "    }\n",
       "</style>\n",
       "<table border=\"1\" class=\"dataframe\">\n",
       "  <thead>\n",
       "    <tr style=\"text-align: right;\">\n",
       "      <th></th>\n",
       "      <th>Nombre</th>\n",
       "      <th>estampaTiempo</th>\n",
       "      <th>Valor</th>\n",
       "      <th>Unidad</th>\n",
       "    </tr>\n",
       "  </thead>\n",
       "  <tbody>\n",
       "    <tr>\n",
       "      <th>0</th>\n",
       "      <td>SO2</td>\n",
       "      <td>2022-01-01 00:00:00</td>\n",
       "      <td>10.857</td>\n",
       "      <td>ug/m3</td>\n",
       "    </tr>\n",
       "    <tr>\n",
       "      <th>1</th>\n",
       "      <td>SO2</td>\n",
       "      <td>2022-01-01 00:00:00</td>\n",
       "      <td>11.224</td>\n",
       "      <td>ug/m3</td>\n",
       "    </tr>\n",
       "    <tr>\n",
       "      <th>2</th>\n",
       "      <td>SO2</td>\n",
       "      <td>2022-01-01 00:01:00</td>\n",
       "      <td>10.404</td>\n",
       "      <td>ug/m3</td>\n",
       "    </tr>\n",
       "    <tr>\n",
       "      <th>3</th>\n",
       "      <td>SO2</td>\n",
       "      <td>2022-01-01 00:02:00</td>\n",
       "      <td>10.477</td>\n",
       "      <td>ug/m3</td>\n",
       "    </tr>\n",
       "    <tr>\n",
       "      <th>4</th>\n",
       "      <td>SO2</td>\n",
       "      <td>2022-01-01 00:03:00</td>\n",
       "      <td>11.022</td>\n",
       "      <td>ug/m3</td>\n",
       "    </tr>\n",
       "    <tr>\n",
       "      <th>...</th>\n",
       "      <td>...</td>\n",
       "      <td>...</td>\n",
       "      <td>...</td>\n",
       "      <td>...</td>\n",
       "    </tr>\n",
       "    <tr>\n",
       "      <th>199355</th>\n",
       "      <td>SO2</td>\n",
       "      <td>2022-05-18 03:59:00</td>\n",
       "      <td>28.060</td>\n",
       "      <td>ug/m3</td>\n",
       "    </tr>\n",
       "    <tr>\n",
       "      <th>199356</th>\n",
       "      <td>SO2</td>\n",
       "      <td>2022-05-18 04:00:00</td>\n",
       "      <td>26.855</td>\n",
       "      <td>ug/m3</td>\n",
       "    </tr>\n",
       "    <tr>\n",
       "      <th>199357</th>\n",
       "      <td>SO2</td>\n",
       "      <td>2022-05-18 04:01:00</td>\n",
       "      <td>25.388</td>\n",
       "      <td>ug/m3</td>\n",
       "    </tr>\n",
       "    <tr>\n",
       "      <th>199358</th>\n",
       "      <td>SO2</td>\n",
       "      <td>2022-05-18 04:02:00</td>\n",
       "      <td>25.257</td>\n",
       "      <td>ug/m3</td>\n",
       "    </tr>\n",
       "    <tr>\n",
       "      <th>199359</th>\n",
       "      <td>SO2</td>\n",
       "      <td>2022-05-18 04:03:00</td>\n",
       "      <td>24.838</td>\n",
       "      <td>ug/m3</td>\n",
       "    </tr>\n",
       "  </tbody>\n",
       "</table>\n",
       "<p>199360 rows × 4 columns</p>\n",
       "</div>"
      ],
      "text/plain": [
       "       Nombre       estampaTiempo   Valor Unidad\n",
       "0         SO2 2022-01-01 00:00:00  10.857  ug/m3\n",
       "1         SO2 2022-01-01 00:00:00  11.224  ug/m3\n",
       "2         SO2 2022-01-01 00:01:00  10.404  ug/m3\n",
       "3         SO2 2022-01-01 00:02:00  10.477  ug/m3\n",
       "4         SO2 2022-01-01 00:03:00  11.022  ug/m3\n",
       "...       ...                 ...     ...    ...\n",
       "199355    SO2 2022-05-18 03:59:00  28.060  ug/m3\n",
       "199356    SO2 2022-05-18 04:00:00  26.855  ug/m3\n",
       "199357    SO2 2022-05-18 04:01:00  25.388  ug/m3\n",
       "199358    SO2 2022-05-18 04:02:00  25.257  ug/m3\n",
       "199359    SO2 2022-05-18 04:03:00  24.838  ug/m3\n",
       "\n",
       "[199360 rows x 4 columns]"
      ]
     },
     "execution_count": 13,
     "metadata": {},
     "output_type": "execute_result"
    }
   ],
   "source": [
    "df_2022_SO2"
   ]
  },
  {
   "cell_type": "code",
   "execution_count": 14,
   "id": "9e4e9ea9",
   "metadata": {},
   "outputs": [
    {
     "data": {
      "text/plain": [
       "Nombre                   object\n",
       "estampaTiempo    datetime64[ns]\n",
       "Valor                   float64\n",
       "Unidad                   object\n",
       "dtype: object"
      ]
     },
     "execution_count": 14,
     "metadata": {},
     "output_type": "execute_result"
    }
   ],
   "source": [
    "df_2022_SO2.dtypes"
   ]
  },
  {
   "cell_type": "markdown",
   "id": "2a766a3a",
   "metadata": {},
   "source": [
    "---"
   ]
  },
  {
   "cell_type": "markdown",
   "id": "2ba2ada4",
   "metadata": {},
   "source": [
    "### Eliminación de NAN y duplicados"
   ]
  },
  {
   "cell_type": "code",
   "execution_count": 15,
   "id": "d597c383",
   "metadata": {},
   "outputs": [
    {
     "data": {
      "text/plain": [
       "Nombre           0\n",
       "estampaTiempo    0\n",
       "Valor            0\n",
       "Unidad           0\n",
       "dtype: int64"
      ]
     },
     "execution_count": 15,
     "metadata": {},
     "output_type": "execute_result"
    }
   ],
   "source": [
    "df_2022_SO2.isna().sum()"
   ]
  },
  {
   "cell_type": "code",
   "execution_count": 16,
   "id": "9c3005f7",
   "metadata": {},
   "outputs": [
    {
     "data": {
      "text/plain": [
       "25"
      ]
     },
     "execution_count": 16,
     "metadata": {},
     "output_type": "execute_result"
    }
   ],
   "source": [
    "df_2022_SO2.duplicated().sum()"
   ]
  },
  {
   "cell_type": "code",
   "execution_count": 17,
   "id": "7f89618d",
   "metadata": {
    "scrolled": false
   },
   "outputs": [
    {
     "data": {
      "text/html": [
       "<div>\n",
       "<style scoped>\n",
       "    .dataframe tbody tr th:only-of-type {\n",
       "        vertical-align: middle;\n",
       "    }\n",
       "\n",
       "    .dataframe tbody tr th {\n",
       "        vertical-align: top;\n",
       "    }\n",
       "\n",
       "    .dataframe thead th {\n",
       "        text-align: right;\n",
       "    }\n",
       "</style>\n",
       "<table border=\"1\" class=\"dataframe\">\n",
       "  <thead>\n",
       "    <tr style=\"text-align: right;\">\n",
       "      <th></th>\n",
       "      <th>Nombre</th>\n",
       "      <th>estampaTiempo</th>\n",
       "      <th>Valor</th>\n",
       "      <th>Unidad</th>\n",
       "    </tr>\n",
       "  </thead>\n",
       "  <tbody>\n",
       "    <tr>\n",
       "      <th>0</th>\n",
       "      <td>SO2</td>\n",
       "      <td>2022-01-01 00:00:00</td>\n",
       "      <td>10.857</td>\n",
       "      <td>ug/m3</td>\n",
       "    </tr>\n",
       "    <tr>\n",
       "      <th>1</th>\n",
       "      <td>SO2</td>\n",
       "      <td>2022-01-01 00:00:00</td>\n",
       "      <td>11.224</td>\n",
       "      <td>ug/m3</td>\n",
       "    </tr>\n",
       "    <tr>\n",
       "      <th>2</th>\n",
       "      <td>SO2</td>\n",
       "      <td>2022-01-01 00:01:00</td>\n",
       "      <td>10.404</td>\n",
       "      <td>ug/m3</td>\n",
       "    </tr>\n",
       "    <tr>\n",
       "      <th>3</th>\n",
       "      <td>SO2</td>\n",
       "      <td>2022-01-01 00:02:00</td>\n",
       "      <td>10.477</td>\n",
       "      <td>ug/m3</td>\n",
       "    </tr>\n",
       "    <tr>\n",
       "      <th>4</th>\n",
       "      <td>SO2</td>\n",
       "      <td>2022-01-01 00:03:00</td>\n",
       "      <td>11.022</td>\n",
       "      <td>ug/m3</td>\n",
       "    </tr>\n",
       "    <tr>\n",
       "      <th>...</th>\n",
       "      <td>...</td>\n",
       "      <td>...</td>\n",
       "      <td>...</td>\n",
       "      <td>...</td>\n",
       "    </tr>\n",
       "    <tr>\n",
       "      <th>199355</th>\n",
       "      <td>SO2</td>\n",
       "      <td>2022-05-18 03:59:00</td>\n",
       "      <td>28.060</td>\n",
       "      <td>ug/m3</td>\n",
       "    </tr>\n",
       "    <tr>\n",
       "      <th>199356</th>\n",
       "      <td>SO2</td>\n",
       "      <td>2022-05-18 04:00:00</td>\n",
       "      <td>26.855</td>\n",
       "      <td>ug/m3</td>\n",
       "    </tr>\n",
       "    <tr>\n",
       "      <th>199357</th>\n",
       "      <td>SO2</td>\n",
       "      <td>2022-05-18 04:01:00</td>\n",
       "      <td>25.388</td>\n",
       "      <td>ug/m3</td>\n",
       "    </tr>\n",
       "    <tr>\n",
       "      <th>199358</th>\n",
       "      <td>SO2</td>\n",
       "      <td>2022-05-18 04:02:00</td>\n",
       "      <td>25.257</td>\n",
       "      <td>ug/m3</td>\n",
       "    </tr>\n",
       "    <tr>\n",
       "      <th>199359</th>\n",
       "      <td>SO2</td>\n",
       "      <td>2022-05-18 04:03:00</td>\n",
       "      <td>24.838</td>\n",
       "      <td>ug/m3</td>\n",
       "    </tr>\n",
       "  </tbody>\n",
       "</table>\n",
       "<p>199335 rows × 4 columns</p>\n",
       "</div>"
      ],
      "text/plain": [
       "       Nombre       estampaTiempo   Valor Unidad\n",
       "0         SO2 2022-01-01 00:00:00  10.857  ug/m3\n",
       "1         SO2 2022-01-01 00:00:00  11.224  ug/m3\n",
       "2         SO2 2022-01-01 00:01:00  10.404  ug/m3\n",
       "3         SO2 2022-01-01 00:02:00  10.477  ug/m3\n",
       "4         SO2 2022-01-01 00:03:00  11.022  ug/m3\n",
       "...       ...                 ...     ...    ...\n",
       "199355    SO2 2022-05-18 03:59:00  28.060  ug/m3\n",
       "199356    SO2 2022-05-18 04:00:00  26.855  ug/m3\n",
       "199357    SO2 2022-05-18 04:01:00  25.388  ug/m3\n",
       "199358    SO2 2022-05-18 04:02:00  25.257  ug/m3\n",
       "199359    SO2 2022-05-18 04:03:00  24.838  ug/m3\n",
       "\n",
       "[199335 rows x 4 columns]"
      ]
     },
     "execution_count": 17,
     "metadata": {},
     "output_type": "execute_result"
    }
   ],
   "source": [
    "df_2022_SO2.drop_duplicates()"
   ]
  },
  {
   "cell_type": "markdown",
   "id": "45387865",
   "metadata": {},
   "source": [
    "Este sería el dataset final."
   ]
  },
  {
   "cell_type": "markdown",
   "id": "733a8cc5",
   "metadata": {},
   "source": [
    "---"
   ]
  },
  {
   "cell_type": "markdown",
   "id": "cbf140cd",
   "metadata": {},
   "source": [
    "### Procesamiento de Datos"
   ]
  },
  {
   "cell_type": "markdown",
   "id": "26465956",
   "metadata": {},
   "source": [
    "**Resample a datos horarios:**"
   ]
  },
  {
   "cell_type": "code",
   "execution_count": 18,
   "id": "6ae8a085",
   "metadata": {},
   "outputs": [
    {
     "name": "stderr",
     "output_type": "stream",
     "text": [
      "/tmp/ipykernel_23457/436158796.py:1: FutureWarning: The default value of numeric_only in DataFrameGroupBy.mean is deprecated. In a future version, numeric_only will default to False. Either specify numeric_only or select only columns which should be valid for the function.\n",
      "  df_2022_SO2_re = df_2022_SO2.resample('3600s', on = 'estampaTiempo').mean().ffill()\n"
     ]
    },
    {
     "data": {
      "text/html": [
       "<div>\n",
       "<style scoped>\n",
       "    .dataframe tbody tr th:only-of-type {\n",
       "        vertical-align: middle;\n",
       "    }\n",
       "\n",
       "    .dataframe tbody tr th {\n",
       "        vertical-align: top;\n",
       "    }\n",
       "\n",
       "    .dataframe thead th {\n",
       "        text-align: right;\n",
       "    }\n",
       "</style>\n",
       "<table border=\"1\" class=\"dataframe\">\n",
       "  <thead>\n",
       "    <tr style=\"text-align: right;\">\n",
       "      <th></th>\n",
       "      <th>Nombre</th>\n",
       "      <th>estampaTiempo</th>\n",
       "      <th>Valor</th>\n",
       "      <th>Unidad</th>\n",
       "    </tr>\n",
       "  </thead>\n",
       "  <tbody>\n",
       "    <tr>\n",
       "      <th>0</th>\n",
       "      <td>SO2</td>\n",
       "      <td>2022-01-01 00:00:00</td>\n",
       "      <td>11.136656</td>\n",
       "      <td>ug/m3</td>\n",
       "    </tr>\n",
       "    <tr>\n",
       "      <th>1</th>\n",
       "      <td>SO2</td>\n",
       "      <td>2022-01-01 01:00:00</td>\n",
       "      <td>11.267459</td>\n",
       "      <td>ug/m3</td>\n",
       "    </tr>\n",
       "    <tr>\n",
       "      <th>2</th>\n",
       "      <td>SO2</td>\n",
       "      <td>2022-01-01 02:00:00</td>\n",
       "      <td>11.955131</td>\n",
       "      <td>ug/m3</td>\n",
       "    </tr>\n",
       "    <tr>\n",
       "      <th>3</th>\n",
       "      <td>SO2</td>\n",
       "      <td>2022-01-01 03:00:00</td>\n",
       "      <td>11.488623</td>\n",
       "      <td>ug/m3</td>\n",
       "    </tr>\n",
       "    <tr>\n",
       "      <th>4</th>\n",
       "      <td>SO2</td>\n",
       "      <td>2022-01-01 04:00:00</td>\n",
       "      <td>11.808770</td>\n",
       "      <td>ug/m3</td>\n",
       "    </tr>\n",
       "    <tr>\n",
       "      <th>...</th>\n",
       "      <td>...</td>\n",
       "      <td>...</td>\n",
       "      <td>...</td>\n",
       "      <td>...</td>\n",
       "    </tr>\n",
       "    <tr>\n",
       "      <th>3288</th>\n",
       "      <td>SO2</td>\n",
       "      <td>2022-05-18 00:00:00</td>\n",
       "      <td>11.913689</td>\n",
       "      <td>ug/m3</td>\n",
       "    </tr>\n",
       "    <tr>\n",
       "      <th>3289</th>\n",
       "      <td>SO2</td>\n",
       "      <td>2022-05-18 01:00:00</td>\n",
       "      <td>14.129180</td>\n",
       "      <td>ug/m3</td>\n",
       "    </tr>\n",
       "    <tr>\n",
       "      <th>3290</th>\n",
       "      <td>SO2</td>\n",
       "      <td>2022-05-18 02:00:00</td>\n",
       "      <td>16.297918</td>\n",
       "      <td>ug/m3</td>\n",
       "    </tr>\n",
       "    <tr>\n",
       "      <th>3291</th>\n",
       "      <td>SO2</td>\n",
       "      <td>2022-05-18 03:00:00</td>\n",
       "      <td>24.049869</td>\n",
       "      <td>ug/m3</td>\n",
       "    </tr>\n",
       "    <tr>\n",
       "      <th>3292</th>\n",
       "      <td>SO2</td>\n",
       "      <td>2022-05-18 04:00:00</td>\n",
       "      <td>25.584500</td>\n",
       "      <td>ug/m3</td>\n",
       "    </tr>\n",
       "  </tbody>\n",
       "</table>\n",
       "<p>3293 rows × 4 columns</p>\n",
       "</div>"
      ],
      "text/plain": [
       "     Nombre       estampaTiempo      Valor Unidad\n",
       "0       SO2 2022-01-01 00:00:00  11.136656  ug/m3\n",
       "1       SO2 2022-01-01 01:00:00  11.267459  ug/m3\n",
       "2       SO2 2022-01-01 02:00:00  11.955131  ug/m3\n",
       "3       SO2 2022-01-01 03:00:00  11.488623  ug/m3\n",
       "4       SO2 2022-01-01 04:00:00  11.808770  ug/m3\n",
       "...     ...                 ...        ...    ...\n",
       "3288    SO2 2022-05-18 00:00:00  11.913689  ug/m3\n",
       "3289    SO2 2022-05-18 01:00:00  14.129180  ug/m3\n",
       "3290    SO2 2022-05-18 02:00:00  16.297918  ug/m3\n",
       "3291    SO2 2022-05-18 03:00:00  24.049869  ug/m3\n",
       "3292    SO2 2022-05-18 04:00:00  25.584500  ug/m3\n",
       "\n",
       "[3293 rows x 4 columns]"
      ]
     },
     "execution_count": 18,
     "metadata": {},
     "output_type": "execute_result"
    }
   ],
   "source": [
    "df_2022_SO2_re = df_2022_SO2.resample('3600s', on = 'estampaTiempo').mean().ffill()\n",
    "df_2022_SO2_re = df_2022_SO2_re.reset_index()\n",
    "df_2022_SO2_re = df_2022_SO2_re.assign(Nombre = \"SO2\", Unidad = \"ug/m3\")\n",
    "df_2022_SO2_re = df_2022_SO2_re[['Nombre', 'estampaTiempo', 'Valor', 'Unidad']]\n",
    "df_2022_SO2_re"
   ]
  },
  {
   "cell_type": "markdown",
   "id": "e071b046",
   "metadata": {},
   "source": [
    "Dado que el ejemplo actual no inclumple las normativas generales, haremos una amplificación de los datos."
   ]
  },
  {
   "cell_type": "code",
   "execution_count": 19,
   "id": "0adaab7c",
   "metadata": {},
   "outputs": [
    {
     "data": {
      "text/html": [
       "<div>\n",
       "<style scoped>\n",
       "    .dataframe tbody tr th:only-of-type {\n",
       "        vertical-align: middle;\n",
       "    }\n",
       "\n",
       "    .dataframe tbody tr th {\n",
       "        vertical-align: top;\n",
       "    }\n",
       "\n",
       "    .dataframe thead th {\n",
       "        text-align: right;\n",
       "    }\n",
       "</style>\n",
       "<table border=\"1\" class=\"dataframe\">\n",
       "  <thead>\n",
       "    <tr style=\"text-align: right;\">\n",
       "      <th></th>\n",
       "      <th>Nombre</th>\n",
       "      <th>estampaTiempo</th>\n",
       "      <th>Valor</th>\n",
       "      <th>Unidad</th>\n",
       "    </tr>\n",
       "  </thead>\n",
       "  <tbody>\n",
       "    <tr>\n",
       "      <th>0</th>\n",
       "      <td>SO2</td>\n",
       "      <td>2022-01-01 00:00:00</td>\n",
       "      <td>59.024275</td>\n",
       "      <td>ug/m3</td>\n",
       "    </tr>\n",
       "    <tr>\n",
       "      <th>1</th>\n",
       "      <td>SO2</td>\n",
       "      <td>2022-01-01 01:00:00</td>\n",
       "      <td>59.717533</td>\n",
       "      <td>ug/m3</td>\n",
       "    </tr>\n",
       "    <tr>\n",
       "      <th>2</th>\n",
       "      <td>SO2</td>\n",
       "      <td>2022-01-01 02:00:00</td>\n",
       "      <td>63.362195</td>\n",
       "      <td>ug/m3</td>\n",
       "    </tr>\n",
       "    <tr>\n",
       "      <th>3</th>\n",
       "      <td>SO2</td>\n",
       "      <td>2022-01-01 03:00:00</td>\n",
       "      <td>60.889702</td>\n",
       "      <td>ug/m3</td>\n",
       "    </tr>\n",
       "    <tr>\n",
       "      <th>4</th>\n",
       "      <td>SO2</td>\n",
       "      <td>2022-01-01 04:00:00</td>\n",
       "      <td>62.586484</td>\n",
       "      <td>ug/m3</td>\n",
       "    </tr>\n",
       "    <tr>\n",
       "      <th>...</th>\n",
       "      <td>...</td>\n",
       "      <td>...</td>\n",
       "      <td>...</td>\n",
       "      <td>...</td>\n",
       "    </tr>\n",
       "    <tr>\n",
       "      <th>3288</th>\n",
       "      <td>SO2</td>\n",
       "      <td>2022-05-18 00:00:00</td>\n",
       "      <td>63.142549</td>\n",
       "      <td>ug/m3</td>\n",
       "    </tr>\n",
       "    <tr>\n",
       "      <th>3289</th>\n",
       "      <td>SO2</td>\n",
       "      <td>2022-05-18 01:00:00</td>\n",
       "      <td>74.884656</td>\n",
       "      <td>ug/m3</td>\n",
       "    </tr>\n",
       "    <tr>\n",
       "      <th>3290</th>\n",
       "      <td>SO2</td>\n",
       "      <td>2022-05-18 02:00:00</td>\n",
       "      <td>86.378966</td>\n",
       "      <td>ug/m3</td>\n",
       "    </tr>\n",
       "    <tr>\n",
       "      <th>3291</th>\n",
       "      <td>SO2</td>\n",
       "      <td>2022-05-18 03:00:00</td>\n",
       "      <td>127.464305</td>\n",
       "      <td>ug/m3</td>\n",
       "    </tr>\n",
       "    <tr>\n",
       "      <th>3292</th>\n",
       "      <td>SO2</td>\n",
       "      <td>2022-05-18 04:00:00</td>\n",
       "      <td>135.597850</td>\n",
       "      <td>ug/m3</td>\n",
       "    </tr>\n",
       "  </tbody>\n",
       "</table>\n",
       "<p>3293 rows × 4 columns</p>\n",
       "</div>"
      ],
      "text/plain": [
       "     Nombre       estampaTiempo       Valor Unidad\n",
       "0       SO2 2022-01-01 00:00:00   59.024275  ug/m3\n",
       "1       SO2 2022-01-01 01:00:00   59.717533  ug/m3\n",
       "2       SO2 2022-01-01 02:00:00   63.362195  ug/m3\n",
       "3       SO2 2022-01-01 03:00:00   60.889702  ug/m3\n",
       "4       SO2 2022-01-01 04:00:00   62.586484  ug/m3\n",
       "...     ...                 ...         ...    ...\n",
       "3288    SO2 2022-05-18 00:00:00   63.142549  ug/m3\n",
       "3289    SO2 2022-05-18 01:00:00   74.884656  ug/m3\n",
       "3290    SO2 2022-05-18 02:00:00   86.378966  ug/m3\n",
       "3291    SO2 2022-05-18 03:00:00  127.464305  ug/m3\n",
       "3292    SO2 2022-05-18 04:00:00  135.597850  ug/m3\n",
       "\n",
       "[3293 rows x 4 columns]"
      ]
     },
     "execution_count": 19,
     "metadata": {},
     "output_type": "execute_result"
    }
   ],
   "source": [
    "df_2022_SO2_re['Valor'] = df_2022_SO2_re['Valor'] * 5.3\n",
    "df_2022_SO2_re"
   ]
  },
  {
   "cell_type": "markdown",
   "id": "43865206",
   "metadata": {},
   "source": [
    "**Percentil 98.5:**"
   ]
  },
  {
   "cell_type": "code",
   "execution_count": 20,
   "id": "0d13b2a7",
   "metadata": {},
   "outputs": [],
   "source": [
    "df_2022_SO2_re = df_2022_SO2_re.assign(perc98_5 = 0)\n",
    "\n",
    "for index in range(0, df_2022_SO2_re.shape[0]):\n",
    "    tmpdf = df_2022_SO2_re.loc[0:index]\n",
    "    tmpPerc = tmpdf['Valor'].tolist()\n",
    "    valPerc98_5 = round(np.percentile(tmpPerc, 98.5), 3)\n",
    "    df_2022_SO2_re.loc[index, 'perc98_5'] = valPerc98_5"
   ]
  },
  {
   "cell_type": "code",
   "execution_count": 21,
   "id": "d5f4e8c9",
   "metadata": {},
   "outputs": [
    {
     "data": {
      "text/html": [
       "<div>\n",
       "<style scoped>\n",
       "    .dataframe tbody tr th:only-of-type {\n",
       "        vertical-align: middle;\n",
       "    }\n",
       "\n",
       "    .dataframe tbody tr th {\n",
       "        vertical-align: top;\n",
       "    }\n",
       "\n",
       "    .dataframe thead th {\n",
       "        text-align: right;\n",
       "    }\n",
       "</style>\n",
       "<table border=\"1\" class=\"dataframe\">\n",
       "  <thead>\n",
       "    <tr style=\"text-align: right;\">\n",
       "      <th></th>\n",
       "      <th>Nombre</th>\n",
       "      <th>estampaTiempo</th>\n",
       "      <th>Valor</th>\n",
       "      <th>Unidad</th>\n",
       "      <th>perc98_5</th>\n",
       "    </tr>\n",
       "  </thead>\n",
       "  <tbody>\n",
       "    <tr>\n",
       "      <th>0</th>\n",
       "      <td>SO2</td>\n",
       "      <td>2022-01-01 00:00:00</td>\n",
       "      <td>59.024275</td>\n",
       "      <td>ug/m3</td>\n",
       "      <td>59.024</td>\n",
       "    </tr>\n",
       "    <tr>\n",
       "      <th>1</th>\n",
       "      <td>SO2</td>\n",
       "      <td>2022-01-01 01:00:00</td>\n",
       "      <td>59.717533</td>\n",
       "      <td>ug/m3</td>\n",
       "      <td>59.707</td>\n",
       "    </tr>\n",
       "    <tr>\n",
       "      <th>2</th>\n",
       "      <td>SO2</td>\n",
       "      <td>2022-01-01 02:00:00</td>\n",
       "      <td>63.362195</td>\n",
       "      <td>ug/m3</td>\n",
       "      <td>63.253</td>\n",
       "    </tr>\n",
       "    <tr>\n",
       "      <th>3</th>\n",
       "      <td>SO2</td>\n",
       "      <td>2022-01-01 03:00:00</td>\n",
       "      <td>60.889702</td>\n",
       "      <td>ug/m3</td>\n",
       "      <td>63.251</td>\n",
       "    </tr>\n",
       "    <tr>\n",
       "      <th>4</th>\n",
       "      <td>SO2</td>\n",
       "      <td>2022-01-01 04:00:00</td>\n",
       "      <td>62.586484</td>\n",
       "      <td>ug/m3</td>\n",
       "      <td>63.316</td>\n",
       "    </tr>\n",
       "    <tr>\n",
       "      <th>...</th>\n",
       "      <td>...</td>\n",
       "      <td>...</td>\n",
       "      <td>...</td>\n",
       "      <td>...</td>\n",
       "      <td>...</td>\n",
       "    </tr>\n",
       "    <tr>\n",
       "      <th>3288</th>\n",
       "      <td>SO2</td>\n",
       "      <td>2022-05-18 00:00:00</td>\n",
       "      <td>63.142549</td>\n",
       "      <td>ug/m3</td>\n",
       "      <td>705.582</td>\n",
       "    </tr>\n",
       "    <tr>\n",
       "      <th>3289</th>\n",
       "      <td>SO2</td>\n",
       "      <td>2022-05-18 01:00:00</td>\n",
       "      <td>74.884656</td>\n",
       "      <td>ug/m3</td>\n",
       "      <td>705.508</td>\n",
       "    </tr>\n",
       "    <tr>\n",
       "      <th>3290</th>\n",
       "      <td>SO2</td>\n",
       "      <td>2022-05-18 02:00:00</td>\n",
       "      <td>86.378966</td>\n",
       "      <td>ug/m3</td>\n",
       "      <td>705.434</td>\n",
       "    </tr>\n",
       "    <tr>\n",
       "      <th>3291</th>\n",
       "      <td>SO2</td>\n",
       "      <td>2022-05-18 03:00:00</td>\n",
       "      <td>127.464305</td>\n",
       "      <td>ug/m3</td>\n",
       "      <td>705.360</td>\n",
       "    </tr>\n",
       "    <tr>\n",
       "      <th>3292</th>\n",
       "      <td>SO2</td>\n",
       "      <td>2022-05-18 04:00:00</td>\n",
       "      <td>135.597850</td>\n",
       "      <td>ug/m3</td>\n",
       "      <td>705.286</td>\n",
       "    </tr>\n",
       "  </tbody>\n",
       "</table>\n",
       "<p>3293 rows × 5 columns</p>\n",
       "</div>"
      ],
      "text/plain": [
       "     Nombre       estampaTiempo       Valor Unidad  perc98_5\n",
       "0       SO2 2022-01-01 00:00:00   59.024275  ug/m3    59.024\n",
       "1       SO2 2022-01-01 01:00:00   59.717533  ug/m3    59.707\n",
       "2       SO2 2022-01-01 02:00:00   63.362195  ug/m3    63.253\n",
       "3       SO2 2022-01-01 03:00:00   60.889702  ug/m3    63.251\n",
       "4       SO2 2022-01-01 04:00:00   62.586484  ug/m3    63.316\n",
       "...     ...                 ...         ...    ...       ...\n",
       "3288    SO2 2022-05-18 00:00:00   63.142549  ug/m3   705.582\n",
       "3289    SO2 2022-05-18 01:00:00   74.884656  ug/m3   705.508\n",
       "3290    SO2 2022-05-18 02:00:00   86.378966  ug/m3   705.434\n",
       "3291    SO2 2022-05-18 03:00:00  127.464305  ug/m3   705.360\n",
       "3292    SO2 2022-05-18 04:00:00  135.597850  ug/m3   705.286\n",
       "\n",
       "[3293 rows x 5 columns]"
      ]
     },
     "execution_count": 21,
     "metadata": {},
     "output_type": "execute_result"
    }
   ],
   "source": [
    "df_2022_SO2_re"
   ]
  },
  {
   "cell_type": "markdown",
   "id": "29beac10",
   "metadata": {},
   "source": [
    "Al dataset anterior le agregamos las columnas **alerta, preEmer, emerg, norma, alertaGral** donde se les asigna 1 si supera el umbral y 0 si no lo supera."
   ]
  },
  {
   "cell_type": "code",
   "execution_count": 22,
   "id": "7a443a80",
   "metadata": {},
   "outputs": [],
   "source": [
    "df_2022_SO2_re = df_2022_SO2_re.assign(alerta = 0, preEmer = 0, emerg = 0, norma = 0, alertaGral = 0)\n",
    "\n",
    "df_2022_SO2_re['alerta']     = np.where((df_2022_SO2_re['Valor'] >= 500) & (df_2022_SO2_re['Valor'] < 650), 1, df_2022_SO2_re['alerta'])\n",
    "df_2022_SO2_re['preEmer']    = np.where((df_2022_SO2_re['Valor'] >= 650) & (df_2022_SO2_re['Valor'] < 950), 1, df_2022_SO2_re['preEmer'])\n",
    "df_2022_SO2_re['emerg']      = np.where(df_2022_SO2_re['Valor'] > 950, 1, df_2022_SO2_re['emerg'])\n",
    "df_2022_SO2_re['norma']      = np.where(df_2022_SO2_re['perc98_5'] >= 700, 1, df_2022_SO2_re['norma'])\n",
    "\n",
    "df_2022_SO2_re['alertaGral'] = np.where(df_2022_SO2_re['Valor'] >= 500, 1, df_2022_SO2_re['alertaGral'])\n"
   ]
  },
  {
   "cell_type": "code",
   "execution_count": 23,
   "id": "f0e8335d",
   "metadata": {
    "scrolled": false
   },
   "outputs": [
    {
     "data": {
      "text/html": [
       "<div>\n",
       "<style scoped>\n",
       "    .dataframe tbody tr th:only-of-type {\n",
       "        vertical-align: middle;\n",
       "    }\n",
       "\n",
       "    .dataframe tbody tr th {\n",
       "        vertical-align: top;\n",
       "    }\n",
       "\n",
       "    .dataframe thead th {\n",
       "        text-align: right;\n",
       "    }\n",
       "</style>\n",
       "<table border=\"1\" class=\"dataframe\">\n",
       "  <thead>\n",
       "    <tr style=\"text-align: right;\">\n",
       "      <th></th>\n",
       "      <th>Nombre</th>\n",
       "      <th>estampaTiempo</th>\n",
       "      <th>Valor</th>\n",
       "      <th>Unidad</th>\n",
       "      <th>perc98_5</th>\n",
       "      <th>alerta</th>\n",
       "      <th>preEmer</th>\n",
       "      <th>emerg</th>\n",
       "      <th>norma</th>\n",
       "      <th>alertaGral</th>\n",
       "    </tr>\n",
       "  </thead>\n",
       "  <tbody>\n",
       "    <tr>\n",
       "      <th>0</th>\n",
       "      <td>SO2</td>\n",
       "      <td>2022-01-01 00:00:00</td>\n",
       "      <td>59.024275</td>\n",
       "      <td>ug/m3</td>\n",
       "      <td>59.024</td>\n",
       "      <td>0</td>\n",
       "      <td>0</td>\n",
       "      <td>0</td>\n",
       "      <td>0</td>\n",
       "      <td>0</td>\n",
       "    </tr>\n",
       "    <tr>\n",
       "      <th>1</th>\n",
       "      <td>SO2</td>\n",
       "      <td>2022-01-01 01:00:00</td>\n",
       "      <td>59.717533</td>\n",
       "      <td>ug/m3</td>\n",
       "      <td>59.707</td>\n",
       "      <td>0</td>\n",
       "      <td>0</td>\n",
       "      <td>0</td>\n",
       "      <td>0</td>\n",
       "      <td>0</td>\n",
       "    </tr>\n",
       "    <tr>\n",
       "      <th>2</th>\n",
       "      <td>SO2</td>\n",
       "      <td>2022-01-01 02:00:00</td>\n",
       "      <td>63.362195</td>\n",
       "      <td>ug/m3</td>\n",
       "      <td>63.253</td>\n",
       "      <td>0</td>\n",
       "      <td>0</td>\n",
       "      <td>0</td>\n",
       "      <td>0</td>\n",
       "      <td>0</td>\n",
       "    </tr>\n",
       "    <tr>\n",
       "      <th>3</th>\n",
       "      <td>SO2</td>\n",
       "      <td>2022-01-01 03:00:00</td>\n",
       "      <td>60.889702</td>\n",
       "      <td>ug/m3</td>\n",
       "      <td>63.251</td>\n",
       "      <td>0</td>\n",
       "      <td>0</td>\n",
       "      <td>0</td>\n",
       "      <td>0</td>\n",
       "      <td>0</td>\n",
       "    </tr>\n",
       "    <tr>\n",
       "      <th>4</th>\n",
       "      <td>SO2</td>\n",
       "      <td>2022-01-01 04:00:00</td>\n",
       "      <td>62.586484</td>\n",
       "      <td>ug/m3</td>\n",
       "      <td>63.316</td>\n",
       "      <td>0</td>\n",
       "      <td>0</td>\n",
       "      <td>0</td>\n",
       "      <td>0</td>\n",
       "      <td>0</td>\n",
       "    </tr>\n",
       "    <tr>\n",
       "      <th>...</th>\n",
       "      <td>...</td>\n",
       "      <td>...</td>\n",
       "      <td>...</td>\n",
       "      <td>...</td>\n",
       "      <td>...</td>\n",
       "      <td>...</td>\n",
       "      <td>...</td>\n",
       "      <td>...</td>\n",
       "      <td>...</td>\n",
       "      <td>...</td>\n",
       "    </tr>\n",
       "    <tr>\n",
       "      <th>3288</th>\n",
       "      <td>SO2</td>\n",
       "      <td>2022-05-18 00:00:00</td>\n",
       "      <td>63.142549</td>\n",
       "      <td>ug/m3</td>\n",
       "      <td>705.582</td>\n",
       "      <td>0</td>\n",
       "      <td>0</td>\n",
       "      <td>0</td>\n",
       "      <td>1</td>\n",
       "      <td>0</td>\n",
       "    </tr>\n",
       "    <tr>\n",
       "      <th>3289</th>\n",
       "      <td>SO2</td>\n",
       "      <td>2022-05-18 01:00:00</td>\n",
       "      <td>74.884656</td>\n",
       "      <td>ug/m3</td>\n",
       "      <td>705.508</td>\n",
       "      <td>0</td>\n",
       "      <td>0</td>\n",
       "      <td>0</td>\n",
       "      <td>1</td>\n",
       "      <td>0</td>\n",
       "    </tr>\n",
       "    <tr>\n",
       "      <th>3290</th>\n",
       "      <td>SO2</td>\n",
       "      <td>2022-05-18 02:00:00</td>\n",
       "      <td>86.378966</td>\n",
       "      <td>ug/m3</td>\n",
       "      <td>705.434</td>\n",
       "      <td>0</td>\n",
       "      <td>0</td>\n",
       "      <td>0</td>\n",
       "      <td>1</td>\n",
       "      <td>0</td>\n",
       "    </tr>\n",
       "    <tr>\n",
       "      <th>3291</th>\n",
       "      <td>SO2</td>\n",
       "      <td>2022-05-18 03:00:00</td>\n",
       "      <td>127.464305</td>\n",
       "      <td>ug/m3</td>\n",
       "      <td>705.360</td>\n",
       "      <td>0</td>\n",
       "      <td>0</td>\n",
       "      <td>0</td>\n",
       "      <td>1</td>\n",
       "      <td>0</td>\n",
       "    </tr>\n",
       "    <tr>\n",
       "      <th>3292</th>\n",
       "      <td>SO2</td>\n",
       "      <td>2022-05-18 04:00:00</td>\n",
       "      <td>135.597850</td>\n",
       "      <td>ug/m3</td>\n",
       "      <td>705.286</td>\n",
       "      <td>0</td>\n",
       "      <td>0</td>\n",
       "      <td>0</td>\n",
       "      <td>1</td>\n",
       "      <td>0</td>\n",
       "    </tr>\n",
       "  </tbody>\n",
       "</table>\n",
       "<p>3293 rows × 10 columns</p>\n",
       "</div>"
      ],
      "text/plain": [
       "     Nombre       estampaTiempo       Valor Unidad  perc98_5  alerta  preEmer  \\\n",
       "0       SO2 2022-01-01 00:00:00   59.024275  ug/m3    59.024       0        0   \n",
       "1       SO2 2022-01-01 01:00:00   59.717533  ug/m3    59.707       0        0   \n",
       "2       SO2 2022-01-01 02:00:00   63.362195  ug/m3    63.253       0        0   \n",
       "3       SO2 2022-01-01 03:00:00   60.889702  ug/m3    63.251       0        0   \n",
       "4       SO2 2022-01-01 04:00:00   62.586484  ug/m3    63.316       0        0   \n",
       "...     ...                 ...         ...    ...       ...     ...      ...   \n",
       "3288    SO2 2022-05-18 00:00:00   63.142549  ug/m3   705.582       0        0   \n",
       "3289    SO2 2022-05-18 01:00:00   74.884656  ug/m3   705.508       0        0   \n",
       "3290    SO2 2022-05-18 02:00:00   86.378966  ug/m3   705.434       0        0   \n",
       "3291    SO2 2022-05-18 03:00:00  127.464305  ug/m3   705.360       0        0   \n",
       "3292    SO2 2022-05-18 04:00:00  135.597850  ug/m3   705.286       0        0   \n",
       "\n",
       "      emerg  norma  alertaGral  \n",
       "0         0      0           0  \n",
       "1         0      0           0  \n",
       "2         0      0           0  \n",
       "3         0      0           0  \n",
       "4         0      0           0  \n",
       "...     ...    ...         ...  \n",
       "3288      0      1           0  \n",
       "3289      0      1           0  \n",
       "3290      0      1           0  \n",
       "3291      0      1           0  \n",
       "3292      0      1           0  \n",
       "\n",
       "[3293 rows x 10 columns]"
      ]
     },
     "execution_count": 23,
     "metadata": {},
     "output_type": "execute_result"
    }
   ],
   "source": [
    "df_2022_SO2_re"
   ]
  },
  {
   "cell_type": "markdown",
   "id": "02e76ec4",
   "metadata": {},
   "source": [
    "---"
   ]
  },
  {
   "cell_type": "markdown",
   "id": "149b4c2d",
   "metadata": {},
   "source": [
    "## Algunas analíticas:"
   ]
  },
  {
   "cell_type": "markdown",
   "id": "28a3917e",
   "metadata": {},
   "source": [
    "### \"Cuenta de Ahorro\""
   ]
  },
  {
   "cell_type": "markdown",
   "id": "e29b1e1e",
   "metadata": {},
   "source": [
    "- **Caso Horario:**"
   ]
  },
  {
   "cell_type": "markdown",
   "id": "3b3c3968",
   "metadata": {},
   "source": [
    "**Cantidad de horas al año:**"
   ]
  },
  {
   "cell_type": "code",
   "execution_count": 24,
   "id": "6f0417b1",
   "metadata": {},
   "outputs": [
    {
     "data": {
      "text/plain": [
       "8760"
      ]
     },
     "execution_count": 24,
     "metadata": {},
     "output_type": "execute_result"
    }
   ],
   "source": [
    "nHrsAnuales = 24 * 365\n",
    "nHrsAnuales"
   ]
  },
  {
   "cell_type": "markdown",
   "id": "48ce5509",
   "metadata": {},
   "source": [
    "**Percentil 98.5 de el total de horas anuales:**"
   ]
  },
  {
   "cell_type": "code",
   "execution_count": 25,
   "id": "4cfa4107",
   "metadata": {},
   "outputs": [
    {
     "data": {
      "text/plain": [
       "8628.6"
      ]
     },
     "execution_count": 25,
     "metadata": {},
     "output_type": "execute_result"
    }
   ],
   "source": [
    "p98_5_nHrsAnuales = (nHrsAnuales * 98.5) / 100\n",
    "p98_5_nHrsAnuales"
   ]
  },
  {
   "cell_type": "code",
   "execution_count": 26,
   "id": "26e68844",
   "metadata": {},
   "outputs": [
    {
     "data": {
      "text/plain": [
       "8629"
      ]
     },
     "execution_count": 26,
     "metadata": {},
     "output_type": "execute_result"
    }
   ],
   "source": [
    "p98_5_nHrsAnuales = int(round(p98_5_nHrsAnuales, 0))\n",
    "p98_5_nHrsAnuales"
   ]
  },
  {
   "cell_type": "markdown",
   "id": "de075b3f",
   "metadata": {},
   "source": [
    "<p style=\"text-align: center;\">cuenta de ahorro = total de horas anuales - percentil 98.5 del total</p>"
   ]
  },
  {
   "cell_type": "code",
   "execution_count": 27,
   "id": "2f2d5c6f",
   "metadata": {},
   "outputs": [
    {
     "data": {
      "text/plain": [
       "131"
      ]
     },
     "execution_count": 27,
     "metadata": {},
     "output_type": "execute_result"
    }
   ],
   "source": [
    "ctaAhorro = nHrsAnuales - p98_5_nHrsAnuales\n",
    "ctaAhorro"
   ]
  },
  {
   "cell_type": "markdown",
   "id": "5119daa3",
   "metadata": {},
   "source": [
    "Para el caso específico del SO2 para la Norma Primaria Horaria, los regulados sólo pueden superar la norma (700 µg/m3N) durante 131 horas al año."
   ]
  },
  {
   "cell_type": "code",
   "execution_count": 28,
   "id": "954f1541",
   "metadata": {},
   "outputs": [],
   "source": [
    "df_2022_SO2_re = df_2022_SO2_re.assign(counter = 0)\n",
    "\n",
    "df_2022_SO2_re['counter'] = df_2022_SO2_re['norma'].cumsum()"
   ]
  },
  {
   "cell_type": "code",
   "execution_count": 29,
   "id": "fe32f112",
   "metadata": {
    "scrolled": false
   },
   "outputs": [
    {
     "data": {
      "text/html": [
       "<div>\n",
       "<style scoped>\n",
       "    .dataframe tbody tr th:only-of-type {\n",
       "        vertical-align: middle;\n",
       "    }\n",
       "\n",
       "    .dataframe tbody tr th {\n",
       "        vertical-align: top;\n",
       "    }\n",
       "\n",
       "    .dataframe thead th {\n",
       "        text-align: right;\n",
       "    }\n",
       "</style>\n",
       "<table border=\"1\" class=\"dataframe\">\n",
       "  <thead>\n",
       "    <tr style=\"text-align: right;\">\n",
       "      <th></th>\n",
       "      <th>Nombre</th>\n",
       "      <th>estampaTiempo</th>\n",
       "      <th>Valor</th>\n",
       "      <th>Unidad</th>\n",
       "      <th>perc98_5</th>\n",
       "      <th>alerta</th>\n",
       "      <th>preEmer</th>\n",
       "      <th>emerg</th>\n",
       "      <th>norma</th>\n",
       "      <th>alertaGral</th>\n",
       "      <th>counter</th>\n",
       "    </tr>\n",
       "  </thead>\n",
       "  <tbody>\n",
       "    <tr>\n",
       "      <th>0</th>\n",
       "      <td>SO2</td>\n",
       "      <td>2022-01-01 00:00:00</td>\n",
       "      <td>59.024275</td>\n",
       "      <td>ug/m3</td>\n",
       "      <td>59.024</td>\n",
       "      <td>0</td>\n",
       "      <td>0</td>\n",
       "      <td>0</td>\n",
       "      <td>0</td>\n",
       "      <td>0</td>\n",
       "      <td>0</td>\n",
       "    </tr>\n",
       "    <tr>\n",
       "      <th>1</th>\n",
       "      <td>SO2</td>\n",
       "      <td>2022-01-01 01:00:00</td>\n",
       "      <td>59.717533</td>\n",
       "      <td>ug/m3</td>\n",
       "      <td>59.707</td>\n",
       "      <td>0</td>\n",
       "      <td>0</td>\n",
       "      <td>0</td>\n",
       "      <td>0</td>\n",
       "      <td>0</td>\n",
       "      <td>0</td>\n",
       "    </tr>\n",
       "    <tr>\n",
       "      <th>2</th>\n",
       "      <td>SO2</td>\n",
       "      <td>2022-01-01 02:00:00</td>\n",
       "      <td>63.362195</td>\n",
       "      <td>ug/m3</td>\n",
       "      <td>63.253</td>\n",
       "      <td>0</td>\n",
       "      <td>0</td>\n",
       "      <td>0</td>\n",
       "      <td>0</td>\n",
       "      <td>0</td>\n",
       "      <td>0</td>\n",
       "    </tr>\n",
       "    <tr>\n",
       "      <th>3</th>\n",
       "      <td>SO2</td>\n",
       "      <td>2022-01-01 03:00:00</td>\n",
       "      <td>60.889702</td>\n",
       "      <td>ug/m3</td>\n",
       "      <td>63.251</td>\n",
       "      <td>0</td>\n",
       "      <td>0</td>\n",
       "      <td>0</td>\n",
       "      <td>0</td>\n",
       "      <td>0</td>\n",
       "      <td>0</td>\n",
       "    </tr>\n",
       "    <tr>\n",
       "      <th>4</th>\n",
       "      <td>SO2</td>\n",
       "      <td>2022-01-01 04:00:00</td>\n",
       "      <td>62.586484</td>\n",
       "      <td>ug/m3</td>\n",
       "      <td>63.316</td>\n",
       "      <td>0</td>\n",
       "      <td>0</td>\n",
       "      <td>0</td>\n",
       "      <td>0</td>\n",
       "      <td>0</td>\n",
       "      <td>0</td>\n",
       "    </tr>\n",
       "    <tr>\n",
       "      <th>...</th>\n",
       "      <td>...</td>\n",
       "      <td>...</td>\n",
       "      <td>...</td>\n",
       "      <td>...</td>\n",
       "      <td>...</td>\n",
       "      <td>...</td>\n",
       "      <td>...</td>\n",
       "      <td>...</td>\n",
       "      <td>...</td>\n",
       "      <td>...</td>\n",
       "      <td>...</td>\n",
       "    </tr>\n",
       "    <tr>\n",
       "      <th>3288</th>\n",
       "      <td>SO2</td>\n",
       "      <td>2022-05-18 00:00:00</td>\n",
       "      <td>63.142549</td>\n",
       "      <td>ug/m3</td>\n",
       "      <td>705.582</td>\n",
       "      <td>0</td>\n",
       "      <td>0</td>\n",
       "      <td>0</td>\n",
       "      <td>1</td>\n",
       "      <td>0</td>\n",
       "      <td>302</td>\n",
       "    </tr>\n",
       "    <tr>\n",
       "      <th>3289</th>\n",
       "      <td>SO2</td>\n",
       "      <td>2022-05-18 01:00:00</td>\n",
       "      <td>74.884656</td>\n",
       "      <td>ug/m3</td>\n",
       "      <td>705.508</td>\n",
       "      <td>0</td>\n",
       "      <td>0</td>\n",
       "      <td>0</td>\n",
       "      <td>1</td>\n",
       "      <td>0</td>\n",
       "      <td>303</td>\n",
       "    </tr>\n",
       "    <tr>\n",
       "      <th>3290</th>\n",
       "      <td>SO2</td>\n",
       "      <td>2022-05-18 02:00:00</td>\n",
       "      <td>86.378966</td>\n",
       "      <td>ug/m3</td>\n",
       "      <td>705.434</td>\n",
       "      <td>0</td>\n",
       "      <td>0</td>\n",
       "      <td>0</td>\n",
       "      <td>1</td>\n",
       "      <td>0</td>\n",
       "      <td>304</td>\n",
       "    </tr>\n",
       "    <tr>\n",
       "      <th>3291</th>\n",
       "      <td>SO2</td>\n",
       "      <td>2022-05-18 03:00:00</td>\n",
       "      <td>127.464305</td>\n",
       "      <td>ug/m3</td>\n",
       "      <td>705.360</td>\n",
       "      <td>0</td>\n",
       "      <td>0</td>\n",
       "      <td>0</td>\n",
       "      <td>1</td>\n",
       "      <td>0</td>\n",
       "      <td>305</td>\n",
       "    </tr>\n",
       "    <tr>\n",
       "      <th>3292</th>\n",
       "      <td>SO2</td>\n",
       "      <td>2022-05-18 04:00:00</td>\n",
       "      <td>135.597850</td>\n",
       "      <td>ug/m3</td>\n",
       "      <td>705.286</td>\n",
       "      <td>0</td>\n",
       "      <td>0</td>\n",
       "      <td>0</td>\n",
       "      <td>1</td>\n",
       "      <td>0</td>\n",
       "      <td>306</td>\n",
       "    </tr>\n",
       "  </tbody>\n",
       "</table>\n",
       "<p>3293 rows × 11 columns</p>\n",
       "</div>"
      ],
      "text/plain": [
       "     Nombre       estampaTiempo       Valor Unidad  perc98_5  alerta  preEmer  \\\n",
       "0       SO2 2022-01-01 00:00:00   59.024275  ug/m3    59.024       0        0   \n",
       "1       SO2 2022-01-01 01:00:00   59.717533  ug/m3    59.707       0        0   \n",
       "2       SO2 2022-01-01 02:00:00   63.362195  ug/m3    63.253       0        0   \n",
       "3       SO2 2022-01-01 03:00:00   60.889702  ug/m3    63.251       0        0   \n",
       "4       SO2 2022-01-01 04:00:00   62.586484  ug/m3    63.316       0        0   \n",
       "...     ...                 ...         ...    ...       ...     ...      ...   \n",
       "3288    SO2 2022-05-18 00:00:00   63.142549  ug/m3   705.582       0        0   \n",
       "3289    SO2 2022-05-18 01:00:00   74.884656  ug/m3   705.508       0        0   \n",
       "3290    SO2 2022-05-18 02:00:00   86.378966  ug/m3   705.434       0        0   \n",
       "3291    SO2 2022-05-18 03:00:00  127.464305  ug/m3   705.360       0        0   \n",
       "3292    SO2 2022-05-18 04:00:00  135.597850  ug/m3   705.286       0        0   \n",
       "\n",
       "      emerg  norma  alertaGral  counter  \n",
       "0         0      0           0        0  \n",
       "1         0      0           0        0  \n",
       "2         0      0           0        0  \n",
       "3         0      0           0        0  \n",
       "4         0      0           0        0  \n",
       "...     ...    ...         ...      ...  \n",
       "3288      0      1           0      302  \n",
       "3289      0      1           0      303  \n",
       "3290      0      1           0      304  \n",
       "3291      0      1           0      305  \n",
       "3292      0      1           0      306  \n",
       "\n",
       "[3293 rows x 11 columns]"
      ]
     },
     "execution_count": 29,
     "metadata": {},
     "output_type": "execute_result"
    }
   ],
   "source": [
    "df_2022_SO2_re"
   ]
  },
  {
   "cell_type": "markdown",
   "id": "a8a11dca",
   "metadata": {},
   "source": [
    "Este debería ser el dataset ingresado a la plataforma."
   ]
  },
  {
   "cell_type": "code",
   "execution_count": 30,
   "id": "1d52b19d",
   "metadata": {},
   "outputs": [],
   "source": [
    "# df_2022_SO2_re.to_csv('exampleSO2.csv')"
   ]
  },
  {
   "cell_type": "markdown",
   "id": "a63161dc",
   "metadata": {},
   "source": [
    "### Porcentaje de superación de la norma en cada caso:"
   ]
  },
  {
   "cell_type": "code",
   "execution_count": 30,
   "id": "6e81e772",
   "metadata": {},
   "outputs": [
    {
     "name": "stdout",
     "output_type": "stream",
     "text": [
      "alerta\n",
      "0    0.980261\n",
      "1    0.019739\n",
      "Name: alerta, dtype: float64\n",
      "\n",
      "preEmer\n",
      "0    0.98512\n",
      "1    0.01488\n",
      "Name: preEmer, dtype: float64\n",
      "\n",
      "emerg\n",
      "0    0.993623\n",
      "1    0.006377\n",
      "Name: emerg, dtype: float64\n",
      "\n",
      "alertaGral\n",
      "0    0.959004\n",
      "1    0.040996\n",
      "Name: alertaGral, dtype: float64\n",
      "\n",
      "norma\n",
      "0    0.907076\n",
      "1    0.092924\n",
      "Name: norma, dtype: float64\n",
      "0    2987\n",
      "1     306\n",
      "Name: norma, dtype: int64\n"
     ]
    }
   ],
   "source": [
    "print('alerta')\n",
    "print(df_2022_SO2_re['alerta'].value_counts('%'))\n",
    "print()\n",
    "print('preEmer')\n",
    "print(df_2022_SO2_re['preEmer'].value_counts('%'))\n",
    "print()\n",
    "print('emerg')\n",
    "print(df_2022_SO2_re['emerg'].value_counts('%'))\n",
    "print()\n",
    "print('alertaGral')\n",
    "print(df_2022_SO2_re['alertaGral'].value_counts('%'))\n",
    "print()\n",
    "print('norma')\n",
    "print(df_2022_SO2_re['norma'].value_counts('%'))\n",
    "print(df_2022_SO2_re['norma'].value_counts())"
   ]
  },
  {
   "cell_type": "markdown",
   "id": "483999f7",
   "metadata": {},
   "source": [
    "---"
   ]
  },
  {
   "cell_type": "markdown",
   "id": "a501208b",
   "metadata": {},
   "source": [
    "## Gráficas"
   ]
  },
  {
   "cell_type": "code",
   "execution_count": 31,
   "id": "66c61af4",
   "metadata": {},
   "outputs": [
    {
     "data": {
      "image/png": "[encoded data removed]",
      "text/plain": [
       "<Figure size 1500x800 with 1 Axes>"
      ]
     },
     "metadata": {},
     "output_type": "display_data"
    }
   ],
   "source": [
    "plt.figure(figsize = (15, 8))\n",
    "\n",
    "ax = sns.lineplot(data = df_2022_SO2_re, x = 'estampaTiempo', y = 'Valor', label = \"SO2\")\n",
    "sns.set_style('darkgrid')\n",
    "\n",
    "plt.axhline(y = 500, color = 'yellow', linestyle = '--', lw = 3, label = \"alerta\")\n",
    "plt.axhline(y = 650, color = 'orange', linestyle = '--', lw = 3, label = \"preemergencia\")\n",
    "plt.axhline(y = 950, color = 'red', linestyle = '--', lw = 3, label = \"emergencia\")\n",
    "\n",
    "yticks = [0, 200, 500, 650, 950, 1200]\n",
    "ax.set_yticks(yticks)\n",
    "\n",
    "plt.xlabel('Fecha', fontsize = 14); \n",
    "plt.ylabel('Concentración de SO2 de 1 hr (μg/m3)', fontsize = 14);\n",
    "\n",
    "plt.title(\"Alertas de Episodio\", fontdict = {'family': 'serif', \n",
    "                                             'color' : 'black',\n",
    "                                             'weight': 'bold',\n",
    "                                             'size': 20})\n",
    "\n",
    "plt.tight_layout()\n",
    "sns.despine();\n",
    "plt.legend();"
   ]
  },
  {
   "cell_type": "code",
   "execution_count": 58,
   "id": "84750d7e",
   "metadata": {},
   "outputs": [
    {
     "data": {
      "text/plain": [
       "3084   2022-05-09 12:00:00\n",
       "Name: estampaTiempo, dtype: datetime64[ns]"
      ]
     },
     "execution_count": 58,
     "metadata": {},
     "output_type": "execute_result"
    }
   ],
   "source": [
    "x_alert = df_2022_SO2_re[df_2022_SO2_re['counter'] == 131]['estampaTiempo']\n",
    "x_alert"
   ]
  },
  {
   "cell_type": "code",
   "execution_count": 63,
   "id": "5da5b130",
   "metadata": {
    "scrolled": false
   },
   "outputs": [
    {
     "data": {
      "image/png": "[encoded data removed]",
      "text/plain": [
       "<Figure size 1500x800 with 1 Axes>"
      ]
     },
     "metadata": {},
     "output_type": "display_data"
    }
   ],
   "source": [
    "plt.figure(figsize = (15, 8))\n",
    "\n",
    "# fechas (horas) en las cuales la norma se traspasa\n",
    "dfNorma = df_2022_SO2_re[df_2022_SO2_re['norma'] == 1]\n",
    "\n",
    "for x_i in dfNorma['estampaTiempo'].unique():\n",
    "    plt.axvline(x = x_i, color = 'yellow', alpha = 0.2, linestyle = '-', lw = 1)\n",
    "\n",
    "# fecha en la cual se cumplen las 131 hrs del Dióxido de Azufre\n",
    "x_alert = df_2022_SO2_re[df_2022_SO2_re['counter'] == 131]['estampaTiempo'].unique()[0]\n",
    "# plt.axvline(x = x_alert, color = 'orange', alpha = 1, linestyle = '--', lw = 3, label = \"Límite cant. de horas\")\n",
    "\n",
    "ax = sns.lineplot(data = df_2022_SO2_re, x = 'estampaTiempo', y = 'perc98_5', label = \"SO2\")\n",
    "# sns.set_style('darkgrid')\n",
    "\n",
    "yticks = [0, 200, 400, 600, 700, 800]\n",
    "ax.set_yticks(yticks)\n",
    "plt.axhline(y = 700, color = 'orange', linestyle = '--', lw = 3, label = \"Norma Primaria\")\n",
    "plt.axvline(x = x_alert, color = 'red', linestyle = '--', lw = 3, label = \"Límite cant. de horas\")\n",
    "\n",
    "plt.xlabel('Fecha', fontsize = 14); \n",
    "plt.ylabel('Concentración de SO2 en el percentil 98.5 de 1 hr (μg/m3)', fontsize = 14);\n",
    "\n",
    "plt.title(\"Alertas Normativas\", fontdict = {'family': 'serif', \n",
    "                                             'color' : 'black',\n",
    "                                             'weight': 'bold',\n",
    "                                             'size': 20})\n",
    "\n",
    "plt.tight_layout()\n",
    "sns.despine();\n",
    "plt.legend();"
   ]
  },
  {
   "cell_type": "markdown",
   "id": "22cfb4a7",
   "metadata": {},
   "source": [
    "# *ideas para mostrar la información.*\n",
    "\n",
    "* grafico de dos informaciones (color superior e inferior)\n",
    "* grafico de doble eje horizontal\n",
    "* grafico zoom cerca de la norma"
   ]
  },
  {
   "cell_type": "markdown",
   "id": "37d2b433",
   "metadata": {},
   "source": [
    "---"
   ]
  },
  {
   "cell_type": "markdown",
   "id": "76a20396",
   "metadata": {},
   "source": [
    "## Propuesta de Arquitectura"
   ]
  },
  {
   "cell_type": "markdown",
   "id": "0b02496e",
   "metadata": {},
   "source": [
    "![Descripción de la imagen](arquitectura_propuestaV2.png)"
   ]
  },
  {
   "cell_type": "markdown",
   "id": "5467bca9",
   "metadata": {},
   "source": [
    "![Descripción de la imagen](workflow.png)"
   ]
  }
 ],
 "metadata": {
  "kernelspec": {
   "display_name": "Python 3 (ipykernel)",
   "language": "python",
   "name": "python3"
  },
  "language_info": {
   "codemirror_mode": {
    "name": "ipython",
    "version": 3
   },
   "file_extension": ".py",
   "mimetype": "text/x-python",
   "name": "python",
   "nbconvert_exporter": "python",
   "pygments_lexer": "ipython3",
   "version": "3.10.9"
  }
 },
 "nbformat": 4,
 "nbformat_minor": 5
}
